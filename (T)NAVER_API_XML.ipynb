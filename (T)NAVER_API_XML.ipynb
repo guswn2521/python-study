{
 "cells": [
  {
   "cell_type": "code",
   "execution_count": 9,
   "metadata": {},
   "outputs": [
    {
     "data": {
      "text/html": [
       "<style type='text/css'>\n",
       ".CodeMirror { font-size: 14px; font-family: Bitstream Vera Sans Mono}\n",
       "</style>\n"
      ],
      "text/plain": [
       "<IPython.core.display.HTML object>"
      ]
     },
     "metadata": {},
     "output_type": "display_data"
    }
   ],
   "source": [
    "%%html\n",
    "<style type='text/css'>\n",
    ".CodeMirror { font-size: 14px; font-family: Bitstream Vera Sans Mono}\n",
    "</style>"
   ]
  },
  {
   "cell_type": "code",
   "execution_count": 13,
   "metadata": {},
   "outputs": [],
   "source": [
    "import requests\n",
    "from bs4 import BeautifulSoup"
   ]
  },
  {
   "cell_type": "code",
   "execution_count": 47,
   "metadata": {},
   "outputs": [],
   "source": [
    "def py_xml_proc(search_key,query, response):\n",
    "    \n",
    "    star_count = 70       \n",
    "    print('*'* star_count)\n",
    "    search_title = '{} {} 검색 : {} {}'.format('=='*10,search_key ,query, '=='*10)\n",
    "    print(search_title)\n",
    "    print('*'* star_count)\n",
    "    \n",
    "    \n",
    "    soup = BeautifulSoup(response.text)\n",
    "    item_all = soup.select('item')\n",
    "    if search_key == 'book':\n",
    "        for item_one in item_all:\n",
    "            title_b = item_one.select_one('title').text\n",
    "            title = title_b.replace('<b>','').replace('</b>','')\n",
    "            price = item_one.select_one('price').text\n",
    "            discount = item_one.select_one('discount').text\n",
    "            print(title, price, discount)\n",
    "            print('*'* star_count)\n",
    "    elif search_key == 'blog':\n",
    "        for item_one in item_all:\n",
    "            title_b = item_one.select_one('title').text\n",
    "            title = title_b.replace('<b>','').replace('</b>','')\n",
    "            bloggername = item_one.select_one('bloggername').text\n",
    "            bloggerlink = item_one.select_one('bloggerlink').text\n",
    "            print(title, bloggername, bloggerlink)\n",
    "            print('*'* star_count)\n",
    "    elif search_key == 'news':\n",
    "        for item_one in item_all:\n",
    "            title_b = item_one.select_one('title').text\n",
    "            title = title_b.replace('<b>','').replace('</b>','').replace('&quot;','')\n",
    "            originallink  = item_one.select_one('originallink ').text\n",
    "            link = item_one.select_one('link').next\n",
    "            print(title, originallink, link)\n",
    "            print('*'* star_count)"
   ]
  },
  {
   "cell_type": "code",
   "execution_count": 33,
   "metadata": {},
   "outputs": [],
   "source": [
    "def naver_search_xml(num, query, display, start, sort):\n",
    "    \n",
    "    search_kind = ['book','blog','news']\n",
    "    \n",
    "    search_key = search_kind[int(num)-1]\n",
    "    \n",
    "    client_id =  'eAQRa79V_FOWgCFovuco'\n",
    "    client_secret = 'H5qZe1MG8c'\n",
    "    \n",
    "    url = 'https://openapi.naver.com/v1/search/{}.xml'\n",
    "    url = url.format(search_key)\n",
    "    params = {'query':query,\n",
    "          'display':display,\n",
    "          'start':start,\n",
    "          'sort':sort}\n",
    "\n",
    "    headers = {\n",
    "        'X-Naver-Client-Id':client_id,\n",
    "        'X-Naver-Client-Secret':client_secret\n",
    "    }\n",
    "    response = requests.get(url, headers=headers, params=params)\n",
    "    if response.status_code == 200:\n",
    "        #print(response.text)\n",
    "        py_xml_proc(search_key,query,response)\n",
    "    else:\n",
    "        print(response.status_code)\n",
    "        \n",
    "    "
   ]
  },
  {
   "cell_type": "code",
   "execution_count": 34,
   "metadata": {},
   "outputs": [],
   "source": [
    "def app():\n",
    "    prompt = '''\n",
    "        1. Book Search\n",
    "        2. Blog Search\n",
    "        3. News Search\n",
    "        4.Quit\n",
    "    '''\n",
    "    number = 0\n",
    "    while True:\n",
    "        print(prompt)\n",
    "        number = input()\n",
    "        if number == '4':\n",
    "            print('안녕히가세요.')\n",
    "            break\n",
    "        query = input('검색어를 넣으세요 >')\n",
    "        display = 10\n",
    "        start = 1\n",
    "        sort = 'date'\n",
    "        naver_search_xml(number, query, display, start, sort)"
   ]
  },
  {
   "cell_type": "code",
   "execution_count": null,
   "metadata": {},
   "outputs": [
    {
     "name": "stdout",
     "output_type": "stream",
     "text": [
      "\n",
      "        1. Book Search\n",
      "        2. Blog Search\n",
      "        3. News Search\n",
      "        4.Quit\n",
      "    \n",
      "3\n",
      "검색어를 넣으세요 >파이썬\n",
      "**********************************************************************\n",
      "==================== news 검색 : 파이썬 ====================\n",
      "**********************************************************************\n",
      "강남 이젠아이티 컴퓨터학원 車중심 자동화 시스템공정 스마트팩토리 주목하... http://www.gpkorea.com/news/articleView.html?idxno=64851 http://www.gpkorea.com/news/articleView.html?idxno=64851\n",
      "**********************************************************************\n",
      "현장 맞춤형 비대면 데이터·AI 교육…영국 사우스햄턴대학 개발 http://www.etnews.com/20200609000122 https://news.naver.com/main/read.nhn?mode=LSD&mid=sec&sid1=105&oid=030&aid=0002887077\n",
      "**********************************************************************\n",
      "[우수 SW중심대학을 만나다]〈3〉한양대, SW를 학교 대표 전공으로 발전 http://www.etnews.com/20200609000119 https://news.naver.com/main/read.nhn?mode=LSD&mid=sec&sid1=105&oid=030&aid=0002887074\n",
      "**********************************************************************\n",
      "IT서비스학회 춘계학술대회 17일 개최...박원순 시장 스마트서울 발표 https://www.zdnet.co.kr/view/?no=20200609164742 https://news.naver.com/main/read.nhn?mode=LSD&mid=sec&sid1=105&oid=092&aid=0002190744\n",
      "**********************************************************************\n",
      "우버, 뉴로팟 오픈소싱...멀티 딥러닝 프레임워크 환경 통합 http://www.aitimes.com/news/articleView.html?idxno=129262 http://www.aitimes.com/news/articleView.html?idxno=129262\n",
      "**********************************************************************\n",
      "그린컴퓨터학원, 최대 50% 할인 받을 수 있는 방학특강 과정 개설 http://www.irobotnews.com/news/articleView.html?idxno=21013 http://www.irobotnews.com/news/articleView.html?idxno=21013\n",
      "**********************************************************************\n",
      "기술력 업! 무료 온라인 교육 과정 사이트 12선 http://www.ciokorea.com/news/154792 http://www.ciokorea.com/news/154792\n",
      "**********************************************************************\n",
      "아시아경제 교육센터, 빅데이터 산업전문가 양성과정 훈련생 모집 https://view.asiae.co.kr/article/2020060911341129124 https://news.naver.com/main/read.nhn?mode=LSD&mid=sec&sid1=101&oid=277&aid=0004694828\n",
      "**********************************************************************\n",
      "한국 상륙-6개국에서 열린 어린이 코딩대회, 신한카드와 한국공학한림원 지원 http://www.ccdailynews.com/news/articleView.html?idxno=1071350 http://www.ccdailynews.com/news/articleView.html?idxno=1071350\n",
      "**********************************************************************\n",
      "국립중앙과학관, 신규 인공지능(AI) 체험교육 본격 착수 http://www.boannews.com/media/view.asp?idx=88803&kind=2 http://www.boannews.com/media/view.asp?idx=88803&kind=2\n",
      "**********************************************************************\n",
      "\n",
      "        1. Book Search\n",
      "        2. Blog Search\n",
      "        3. News Search\n",
      "        4.Quit\n",
      "    \n"
     ]
    }
   ],
   "source": [
    "app()"
   ]
  },
  {
   "cell_type": "code",
   "execution_count": 31,
   "metadata": {},
   "outputs": [
    {
     "data": {
      "text/plain": [
       "'********** aaa **********'"
      ]
     },
     "execution_count": 31,
     "metadata": {},
     "output_type": "execute_result"
    }
   ],
   "source": [
    "search_title = '{} {} {}'.format('*'*10, 'aaa', '*'*10)\n",
    "search_title"
   ]
  }
 ],
 "metadata": {
  "kernelspec": {
   "display_name": "Python 3",
   "language": "python",
   "name": "python3"
  },
  "language_info": {
   "codemirror_mode": {
    "name": "ipython",
    "version": 3
   },
   "file_extension": ".py",
   "mimetype": "text/x-python",
   "name": "python",
   "nbconvert_exporter": "python",
   "pygments_lexer": "ipython3",
   "version": "3.7.7"
  }
 },
 "nbformat": 4,
 "nbformat_minor": 4
}
