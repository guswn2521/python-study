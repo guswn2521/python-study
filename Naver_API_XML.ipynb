{
 "cells": [
  {
   "cell_type": "code",
   "execution_count": 1,
   "metadata": {},
   "outputs": [],
   "source": [
    "import os\n",
    "import sys\n",
    "import requests\n",
    "import datetime\n",
    "import time\n",
    "import json\n",
    "from bs4 import BeautifulSoup"
   ]
  },
  {
   "cell_type": "code",
   "execution_count": 9,
   "metadata": {},
   "outputs": [],
   "source": [
    "def py_xml_proc(num,response):\n",
    "    soup = BeautifulSoup(response.text)\n",
    "    if num == '1':\n",
    "        book_all = soup.select('item')\n",
    "        for book in book_all:\n",
    "            title = book.select_one('title').text.replace('<b>','').replace('</b','')\n",
    "            price = book.select_one('price').text\n",
    "            discount = book.select_one('discount').text\n",
    "            print('-'*100)\n",
    "            print(f'{title}, 가격 : {price} ->{discount}')\n",
    "            print()\n",
    "    elif num == '2':\n",
    "        blog_all = soup.select('item')\n",
    "        for blog in blog_all:\n",
    "            title = blog.select_one('title').text.replace('<b>','').replace('</b>','')\n",
    "            bloggername = blog.select_one('bloggername').text\n",
    "            bloggerlink = blog.select_one('bloggerlink').text\n",
    "            print('-'*100)\n",
    "            print(f'{title}, 블로거 : {bloggername} || {bloggerlink}')\n",
    "            print()\n",
    "    elif num == '3':\n",
    "        news_all = soup.select('item')\n",
    "        for news in news_all:\n",
    "            title = news.select_one('title').text\n",
    "            originallink = news.select_one('originallink').text\n",
    "            link= news.select_one('link').next\n",
    "            print('-'*100)\n",
    "            print(f'{title},{originallink}, {link}')\n",
    "            print()\n",
    "    elif num == '4':\n",
    "        shop_all = soup.select('item')\n",
    "        for shopping in shop_all:\n",
    "            title = shopping.select_one('title').text.replace('<b>','').replace('</b>','')\n",
    "            hprice = shopping.select_one('hprice').text\n",
    "            lprice = shopping.select_one('lprice').text\n",
    "            proType =  shopping.select_one('producttype').text\n",
    "            maker =  shopping.select_one('maker').text\n",
    "            brand =  shopping.select_one('brand').text\n",
    "            print('-'*100)\n",
    "            print(f'{title} \\\\{hprice} -> \\\\{lprice}, {maker},{brand}')\n",
    "            print()"
   ]
  },
  {
   "cell_type": "code",
   "execution_count": 3,
   "metadata": {},
   "outputs": [],
   "source": [
    "def naver_search_xml(num, query, display, start, sort):\n",
    "    \n",
    "    search_kind = ['book','blog','news','shop']\n",
    "    \n",
    "    client_id = '8Jr3wV4FF40TMEOinRyP'\n",
    "    client_secret = 'Re0TN1Y0co'\n",
    "    \n",
    "    url = 'https://openapi.naver.com/v1/search/{}.xml'\n",
    "    url = url.format(search_kind[int(num)-1])\n",
    "    \n",
    "    params = {'query':query, 'display':display, 'start' : start, 'sort':sort}\n",
    "    headers = {\n",
    "        'X-Naver-Client-Id' : client_id,\n",
    "        'X-Naver-Client-Secret' : client_secret\n",
    "    }\n",
    "    \n",
    "    response = requests.get(url,headers=headers, params = params)\n",
    "    \n",
    "    if response.status_code == 200:\n",
    "        py_xml_proc(num, response)\n",
    "    else:\n",
    "        print(response.status_code)\n",
    "    "
   ]
  },
  {
   "cell_type": "code",
   "execution_count": 4,
   "metadata": {},
   "outputs": [],
   "source": [
    "def app():\n",
    "    prompt = '''\n",
    "        1. Book Search\n",
    "        2. Blog Search\n",
    "        3. News Search\n",
    "        4. Shopping Search\n",
    "        5. Quit\n",
    "    '''\n",
    "    num = 0\n",
    "    while True:\n",
    "        print(prompt)\n",
    "        num = input('원하는 검색을 선택하세요 >')\n",
    "        if num == '5':\n",
    "            print('안녕히가세요')\n",
    "            break\n",
    "        query = input('검색어를 넣으세요 >')\n",
    "        display = 10\n",
    "        start = 1\n",
    "        sort = 'date'\n",
    "        naver_search_xml(num, query, display, start, sort)"
   ]
  },
  {
   "cell_type": "code",
   "execution_count": null,
   "metadata": {},
   "outputs": [],
   "source": [
    "app()"
   ]
  },
  {
   "cell_type": "code",
   "execution_count": null,
   "metadata": {},
   "outputs": [],
   "source": [
    "## news : title / originallink / link\n",
    "## blog : title/ bloggername/ bloggerlink\n",
    "## shopping : title/ productType(일반상품/중고상품/단종상품/판매예정상품)/maker/brand/\n",
    "##price(lprice, hprice)"
   ]
  },
  {
   "cell_type": "code",
   "execution_count": null,
   "metadata": {},
   "outputs": [],
   "source": []
  },
  {
   "cell_type": "code",
   "execution_count": null,
   "metadata": {},
   "outputs": [],
   "source": []
  },
  {
   "cell_type": "code",
   "execution_count": null,
   "metadata": {},
   "outputs": [],
   "source": []
  },
  {
   "cell_type": "code",
   "execution_count": null,
   "metadata": {},
   "outputs": [],
   "source": []
  },
  {
   "cell_type": "code",
   "execution_count": null,
   "metadata": {},
   "outputs": [],
   "source": []
  },
  {
   "cell_type": "code",
   "execution_count": null,
   "metadata": {},
   "outputs": [],
   "source": []
  },
  {
   "cell_type": "code",
   "execution_count": null,
   "metadata": {},
   "outputs": [],
   "source": []
  },
  {
   "cell_type": "code",
   "execution_count": null,
   "metadata": {},
   "outputs": [],
   "source": []
  }
 ],
 "metadata": {
  "kernelspec": {
   "display_name": "Python 3",
   "language": "python",
   "name": "python3"
  },
  "language_info": {
   "codemirror_mode": {
    "name": "ipython",
    "version": 3
   },
   "file_extension": ".py",
   "mimetype": "text/x-python",
   "name": "python",
   "nbconvert_exporter": "python",
   "pygments_lexer": "ipython3",
   "version": "3.7.6"
  }
 },
 "nbformat": 4,
 "nbformat_minor": 4
}
