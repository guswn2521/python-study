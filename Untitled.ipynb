{
 "cells": [
  {
   "cell_type": "code",
   "execution_count": 2,
   "metadata": {},
   "outputs": [],
   "source": [
    "import requests\n",
    "from bs4 import BeautifulSoup"
   ]
  },
  {
   "cell_type": "code",
   "execution_count": null,
   "metadata": {},
   "outputs": [],
   "source": [
    "url = 'https://auth.dano.me/login?url=https%3A%2F%2Fdanoshop.net%2Fcategory%3Fcate_no%3D147%26utm_campaign%3Dpaid_media%26utm_source%3Dnaver%26utm_medium%3Dad_brand_search%26utm_content%3Dcategory_best%26n_media%3D27758%26n_query%3D%25EB%258B%25A4%25EB%2585%25B8%25EC%2583%25B5%26n_rank%3D1%26n_ad_group%3Dgrp-a001-04-000000010448991%26n_ad%3Dnad-a001-04-000000095997037%26n_keyword_id%3Dnkw-a001-04-000001917306112%26n_keyword%3D%25EB%258B%25A4%25EB%2585%25B8%25EC%2583%25B5%26n_campaign_type%3D4%26n_contract%3Dtct-a001-04-000000000251867%26NaPm%3Dct%253Dkb61csfc%257Cci%253D0z400001MbPsDdlilLpj%257Ctr%253Dbrnd%257Chk%253Ddd28ea9e6b7d6f3feb02275969f645e957619f33'"
   ]
  },
  {
   "cell_type": "code",
   "execution_count": null,
   "metadata": {},
   "outputs": [],
   "source": [
    "data={\n",
    "    'memberId':'guswn2521',\n",
    "    'memberPassword':'Rhaoddl25'\n",
    "}"
   ]
  },
  {
   "cell_type": "code",
   "execution_count": 6,
   "metadata": {},
   "outputs": [
    {
     "data": {
      "text/plain": [
       "<!DOCTYPE html>\n",
       "<html lang=\"kor\">\n",
       "<head>\n",
       "<title>DANO: 로그인</title>\n",
       "<meta charset=\"utf-8\"/>\n",
       "<meta content=\"width=device-width, initial-scale=1.0, maximum-scale=1.0, minimum-scale=1.0, user-scalable=no\" name=\"viewport\"/>\n",
       "<link href=\"/res/favicon.ico\" rel=\"apple-touch-icon\"/>\n",
       "<!-- Global site tag (gtag.js) - Google Analytics -->\n",
       "<script async=\"\" src=\"https://www.googletagmanager.com/gtag/js?id=UA-127185160-1\"></script>\n",
       "<script>\n",
       "      window.dataLayer = window.dataLayer || [];\n",
       "      function gtag() {\n",
       "        dataLayer.push(arguments);\n",
       "      }\n",
       "      gtag('js', new Date());\n",
       "\n",
       "      gtag('config', 'UA-127185160-1');\n",
       "    </script>\n",
       "<!--Opensource for error-tracking : sentry.io-->\n",
       "<script crossorigin=\"anonymous\" src=\"https://browser.sentry-cdn.com/4.0.6/bundle.min.js\"></script>\n",
       "<script>\n",
       "      Sentry.init({\n",
       "        dsn: 'https://8be13075ac13405c896f4b100ebb039a@sentry.io/1297223'\n",
       "      });\n",
       "    </script>\n",
       "<!-- Facebook Pixel Code -->\n",
       "<script>\n",
       "      !(function(f, b, e, v, n, t, s) {\n",
       "        if (f.fbq) return;\n",
       "        n = f.fbq = function() {\n",
       "          n.callMethod\n",
       "            ? n.callMethod.apply(n, arguments)\n",
       "            : n.queue.push(arguments);\n",
       "        };\n",
       "        if (!f._fbq) f._fbq = n;\n",
       "        n.push = n;\n",
       "        n.loaded = !0;\n",
       "        n.version = '2.0';\n",
       "        n.queue = [];\n",
       "        t = b.createElement(e);\n",
       "        t.async = !0;\n",
       "        t.src = v;\n",
       "        s = b.getElementsByTagName(e)[0];\n",
       "        s.parentNode.insertBefore(t, s);\n",
       "      })(\n",
       "        window,\n",
       "        document,\n",
       "        'script',\n",
       "        'https://connect.facebook.net/en_US/fbevents.js'\n",
       "      );\n",
       "      fbq('init', '1803423793281659');\n",
       "      fbq('init', '225630791211936');\n",
       "      fbq('track', 'PageView');\n",
       "    </script>\n",
       "<noscript><img height=\"1\" src=\"https://www.facebook.com/tr?id=1803423793281659&amp;ev=PageView&amp;noscript=1\" width=\"1\"/></noscript>\n",
       "<!-- End Facebook Pixel Code -->\n",
       "<!-- kakao pixel -->\n",
       "<script charset=\"UTF-8\" src=\"//t1.daumcdn.net/adfit/static/kp.js\" type=\"text/javascript\"></script>\n",
       "<script type=\"text/javascript\">\n",
       "      kakaoPixel('9152683807987842504').pageView();\n",
       "    </script>\n",
       "<link href=\"/res/favicon.ico\" rel=\"shortcut icon\"/><link href=\"/res/app.css?8a53226b232f0eca0c4e\" rel=\"stylesheet\"/></head>\n",
       "<body>\n",
       "<div id=\"root\"></div>\n",
       "<script src=\"/res/vendor.js?8a53226b232f0eca0c4e\" type=\"text/javascript\"></script><script src=\"/res/main.js?8a53226b232f0eca0c4e\" type=\"text/javascript\"></script></body>\n",
       "</html>"
      ]
     },
     "execution_count": 6,
     "metadata": {},
     "output_type": "execute_result"
    }
   ],
   "source": [
    "url='https://danoshop.net/mypage'\n",
    "response = requests.get(url)\n",
    "soup = BeautifulSoup(response.text)\n",
    "soup"
   ]
  }
 ],
 "metadata": {
  "kernelspec": {
   "display_name": "Python 3",
   "language": "python",
   "name": "python3"
  },
  "language_info": {
   "codemirror_mode": {
    "name": "ipython",
    "version": 3
   },
   "file_extension": ".py",
   "mimetype": "text/x-python",
   "name": "python",
   "nbconvert_exporter": "python",
   "pygments_lexer": "ipython3",
   "version": "3.7.6"
  }
 },
 "nbformat": 4,
 "nbformat_minor": 4
}
