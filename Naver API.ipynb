{
 "cells": [
  {
   "cell_type": "code",
   "execution_count": 1,
   "metadata": {},
   "outputs": [],
   "source": [
    "c_id = '8Jr3wV4FF40TMEOinRyP'\n",
    "c_secret = 'Re0TN1Y0co'\n",
    "## http://intelligence.com\n"
   ]
  },
  {
   "cell_type": "code",
   "execution_count": null,
   "metadata": {},
   "outputs": [],
   "source": []
  },
  {
   "cell_type": "code",
   "execution_count": 2,
   "metadata": {},
   "outputs": [
    {
     "name": "stdout",
     "output_type": "stream",
     "text": [
      "<?xml version=\"1.0\" encoding=\"UTF-8\"?><rss version=\"2.0\"><channel><title>Naver Open API - blog ::'파이썬'</title><link>https://search.naver.com</link><description>Naver Search Result</description><lastBuildDate>Wed, 10 Jun 2020 10:29:12 +0900</lastBuildDate><total>153213</total><start>1</start><display>10</display><item><title>&lt;b&gt;파이썬&lt;/b&gt;학원 쉬운 길은 존재한다</title><link>https://blog.naver.com/kang6864?Redirect=Log&amp;logNo=221911853233</link><description>프로그래밍 관련 교육을 진행하는 곳들은 매우 많았지만 &lt;b&gt;파이썬&lt;/b&gt;학원 커리큘럼과 학생 후기 등을 꼼꼼히... 그러자 비전공자들을 기반으로 해서 이해하기 쉽고 여러 분야에 활용이 가능한 &lt;b&gt;파이썬&lt;/b&gt;학원을 위주로... </description><bloggername>8살 연상연하 한강부부의 흥로그</bloggername><bloggerlink>https://blog.naver.com/kang6864</bloggerlink><postdate>20200416</postdate></item><item><title>&lt;b&gt;파이썬&lt;/b&gt; 학원 리얼 후기!!!</title><link>https://blog.naver.com/designer_dh?Redirect=Log&amp;logNo=221973235700</link><description>그렇게 저의 공부의 첫시작은 프로그래밍 언어 &lt;b&gt;파이썬&lt;/b&gt;이었습니다. IT, 프로그래밍 언어는 처음 배우는... &lt;b&gt;파이썬&lt;/b&gt; 활용에 필요한 프로그램을 설치하고 실행하는데 있어서 도움을 직접 많이 받았습니다. 그외에도... </description><bloggername>부러진날개로 나는법을 배워라</bloggername><bloggerlink>https://blog.naver.com/designer_dh</bloggerlink><postdate>20200521</postdate></item><item><title>&lt;b&gt;파이썬&lt;/b&gt;학원 블라인드에 도전한다!</title><link>https://blog.naver.com/iloveihj007?Redirect=Log&amp;logNo=221981925268</link><description>하지만 나는 더이상 나태해지지 않기 위해서 부스스 일어나 &lt;b&gt;파이썬&lt;/b&gt;학원 갈 채비를 했다. 학원은 왜 가기... 따란, 어차피 나는 취업을 위해서 &lt;b&gt;파이썬&lt;/b&gt;학원 다니는 거고 어차피!!! 나는 또 기초 과목을 수강했어야... </description><bloggername>So_various</bloggername><bloggerlink>https://blog.naver.com/iloveihj007</bloggerlink><postdate>20200528</postdate></item><item><title>&lt;b&gt;파이썬&lt;/b&gt;학원 모든 준비를 마쳤죠!</title><link>https://blog.naver.com/ragocittemir?Redirect=Log&amp;logNo=221980487009</link><description>&lt;b&gt;파이썬&lt;/b&gt;학원 모든 준비를 마쳤죠! 대학교를 다니면서 캐나다로 워킹홀리데이를 간 적이 있었어요.... 키워가고자 &lt;b&gt;파이썬&lt;/b&gt;학원을 통해 배우고자 했어요. 요즘 IT산업이계속해서 발전하고 있는 것은 물론이고, 한국은... </description><bloggername>안녕</bloggername><bloggerlink>https://blog.naver.com/ragocittemir</bloggerlink><postdate>20200527</postdate></item><item><title>신촌&lt;b&gt;파이썬&lt;/b&gt;학원 매일 성장하는 즐거움!</title><link>https://blog.naver.com/mmim_93?Redirect=Log&amp;logNo=221960090263</link><description>제가 학교에 다닐 때에는 그런 정보는 전혀 없었지만, 지금이라도 배워둔다면 추후 유용하게 사용을 할 수 있을 것이라는 생각에 신촌&lt;b&gt;파이썬&lt;/b&gt;학원을 찾아가게 되었어요. 그리고 &lt;b&gt;파이썬&lt;/b&gt;의 경우에는 코딩을... </description><bloggername>밈_일상로그</bloggername><bloggerlink>https://blog.naver.com/mmim_93</bloggerlink><postdate>20200513</postdate></item><item><title>&lt;b&gt;파이썬&lt;/b&gt; 프로그래밍 인강으로 독학했어요</title><link>https://blog.naver.com/cdh0584?Redirect=Log&amp;logNo=221980303138</link><description>&lt;b&gt;파이썬&lt;/b&gt; 프로그래밍 인강으로 독학했어요 욱쌤입니다 &lt;b&gt;파이썬&lt;/b&gt; 인강 후기를 가져왔습니다 요즘 주변에서 프로그래밍이니 4차산업혁명이니 어쩌니 하는 소리가 많이 들리더라고요 저랑은 관련 없는 다른 세상... </description><bloggername>부날파 : 부러진날개로파다닥 New</bloggername><bloggerlink>https://blog.naver.com/cdh0584</bloggerlink><postdate>20200527</postdate></item><item><title>&lt;b&gt;파이썬&lt;/b&gt;학원 기초 뼈대를 잡다!</title><link>https://blog.naver.com/mylove122007?Redirect=Log&amp;logNo=221978367137</link><description>&lt;b&gt;파이썬&lt;/b&gt;학원 기초 뼈대를 잡다! 세상은 알다가도 모를 일들이 펼쳐지는 거 같아요. 찬찬히 생각을... 덕분에 저녁시간 &lt;b&gt;파이썬&lt;/b&gt;학원을 다니며 기초를 쓱쓱 닦고 있답니다. 배움이라는게 억지로 떠밀어서 되나요?... </description><bloggername>SMAP Forever~♡</bloggername><bloggerlink>https://blog.naver.com/mylove122007</bloggerlink><postdate>20200525</postdate></item><item><title>&apos;&lt;b&gt;파이썬&lt;/b&gt;&apos;의 인기가 떨어지면 어떤 개발 언어가 뜨게 될까.... </title><link>http://blog.wishket.com/%ED%8C%8C%EC%9D%B4%EC%8D%AC-%EC%9D%B8%EA%B8%B0%EA%B0%80-%EB%96%A8%EC%96%B4%EC%A7%80%EB%A9%B4-%EC%96%B4%EB%96%A4-%EA%B0%9C%EB%B0%9C-%EC%96%B8%EC%96%B4%EA%B0%80-%EB%9C%B0%EA%B9%8C/</link><description>‘&lt;b&gt;파이썬&lt;/b&gt;’의 인기가 떨어지면 어떤 개발 언어가 뜨게 될까. Facebook Twitter 지난 몇 년 동안 &lt;b&gt;파이썬&lt;/b&gt;에 대한 수요가 급격하게 증가하면서, 그 인기가 식을 줄 모르고 있습니다. &lt;b&gt;파이썬&lt;/b&gt;이 상당한 인기를... </description><bloggername>Wishket</bloggername><bloggerlink>http://blog.wishket.com/</bloggerlink><postdate>20200422</postdate></item><item><title>&lt;b&gt;파이썬&lt;/b&gt; 학원 제대로 배웠죠!</title><link>https://blog.naver.com/mj_edith?Redirect=Log&amp;logNo=221927179964</link><description>&lt;b&gt;파이썬&lt;/b&gt;학원 제대로 배웠죠! 운이 좋게도 졸업과 동시에 취업이 되었어요! 요즘 취업난이 심하다고들... 하는 마음으로 보다 전문적이고 실전에 필요한 지식들과 기술을 배우고자, &lt;b&gt;파이썬&lt;/b&gt;학원을 다니기로... </description><bloggername>밍-로그 :)</bloggername><bloggerlink>https://blog.naver.com/mj_edith</bloggerlink><postdate>20200424</postdate></item><item><title>&lt;b&gt;파이썬&lt;/b&gt; 설치 다운로드부터 해야겠죠?</title><link>https://blog.naver.com/sweetk2ss?Redirect=Log&amp;logNo=221954566322</link><description>제격인 &lt;b&gt;파이썬&lt;/b&gt; 설치 및 다운로드 방법에 대해 알려드리는 시간을 가져볼까 합니다. Phthon은 오픈 소스 소프트웨어입니다. 그렇기에 누구나 Phthon 공식 사이트를 통해 &lt;b&gt;파이썬&lt;/b&gt; 설치 파일을 다운로드할... </description><bloggername>도찌의블로그</bloggername><bloggerlink>https://blog.naver.com/sweetk2ss</bloggerlink><postdate>20200510</postdate></item></channel></rss>\n"
     ]
    }
   ],
   "source": [
    "import os\n",
    "import sys\n",
    "import urllib.request\n",
    "client_id = c_id\n",
    "client_secret = c_secret\n",
    "encText = urllib.parse.quote(\"파이썬\")\n",
    "url = \"https://openapi.naver.com/v1/search/blog?query=\" + encText # json 결과\n",
    "url = \"https://openapi.naver.com/v1/search/blog.xml?query=\" + encText # xml 결과\n",
    "request = urllib.request.Request(url)\n",
    "request.add_header(\"X-Naver-Client-Id\",client_id)\n",
    "request.add_header(\"X-Naver-Client-Secret\",client_secret)\n",
    "response = urllib.request.urlopen(request)\n",
    "rescode = response.getcode()\n",
    "if(rescode==200):\n",
    "    response_body = response.read()\n",
    "    print(response_body.decode('utf-8'))\n",
    "else:\n",
    "    print(\"Error Code:\" + rescode)"
   ]
  },
  {
   "cell_type": "code",
   "execution_count": null,
   "metadata": {},
   "outputs": [],
   "source": []
  },
  {
   "cell_type": "code",
   "execution_count": 6,
   "metadata": {},
   "outputs": [
    {
     "data": {
      "text/plain": [
       "[{'title': 'IT서비스학회, 디지털전환과 스마트사회 주제로 17일 학술 대회',\n",
       "  'originallink': 'http://www.digitaltoday.co.kr/news/articleView.html?idxno=237520',\n",
       "  'link': 'http://www.digitaltoday.co.kr/news/articleView.html?idxno=237520',\n",
       "  'description': \"학생들을 위한 '<b>파이썬</b>기반 머신러닝 튜토리얼', 한국생산기술연구원 국가산업융합지원센터(김민선 소장)가 주최하고 IT서비스 학회가 주관한 '제8회 산업융합 활성화 방안 연구논문 공모전'에 대한 시상식 및... \",\n",
       "  'pubDate': 'Wed, 10 Jun 2020 10:46:00 +0900'},\n",
       " {'title': '위시켓, ‘MZ세대 IT 프리랜서 현황’ 발표',\n",
       "  'originallink': 'http://news.heraldcorp.com/view.php?ud=20200610000286',\n",
       "  'link': 'https://news.naver.com/main/read.nhn?mode=LSD&mid=sec&sid1=101&oid=016&aid=0001684457',\n",
       "  'description': '6위 <b>파이썬</b> 순으로 위시켓 전체 보유 기술 순위와 유사했으나, Z세대의 데이터만 확인했을 때 1위 <b>파이썬</b>, 2위 JavaScript, 3위 Java, 4위 C/C++, 5위 PHP로 PYPL(PopularitY of Programming Language, 구글에 자주 검색되는 언어... ',\n",
       "  'pubDate': 'Wed, 10 Jun 2020 10:42:00 +0900'},\n",
       " {'title': '아시아경제 교육센터, 인공지능 딥러닝 기반 자연어처리 텍스트 분석가 양성과...',\n",
       "  'originallink': 'https://view.asiae.co.kr/article/2020061010074547481',\n",
       "  'link': 'https://news.naver.com/main/read.nhn?mode=LSD&mid=sec&sid1=101&oid=277&aid=0004695436',\n",
       "  'description': '교육과정은 개발환경 구축과 프로그래밍, 데이터 분석, 인공지능 자연어처리, 산업 융합형 프로젝트 실습으로 구성되어 있으며, 인공지능 딥러닝 기술의 기본이 되는 <b>파이썬</b> 언어로 진행된다. java, C, C++ 등 다른 언어에... ',\n",
       "  'pubDate': 'Wed, 10 Jun 2020 10:06:00 +0900'},\n",
       " {'title': '[김영학의 직장에서 살아남기] 분석과 해석의 차이',\n",
       "  'originallink': 'http://www.econovill.com/news/articleView.html?idxno=399625',\n",
       "  'link': 'http://www.econovill.com/news/articleView.html?idxno=399625',\n",
       "  'description': '단순히 커다란 데이터를 적절한 도구(엑셀, <b>파이썬</b>, 웹 크롤링 등)로 필요한 기준에 맞게 정렬하고 분류하는 것 보다는 이를 통해 얻고자 하는 인사이트를 발견하는 것이 더욱 요구된다. 따라서, 제대로 된 분석(쪼개고... ',\n",
       "  'pubDate': 'Wed, 10 Jun 2020 07:58:00 +0900'},\n",
       " {'title': '페이스북, AI로 컴퓨터 코드 자유자재로 변환',\n",
       "  'originallink': 'http://www.aitimes.com/news/articleView.html?idxno=129281',\n",
       "  'link': 'http://www.aitimes.com/news/articleView.html?idxno=129281',\n",
       "  'description': \"페이스북 연구원들은 &quot; C++, 자바, <b>파이썬</b>과 같은 하나의 고급 프로그래밍 언어(코드)를 다른 코드로... C++,자바,<b>파이썬</b>을 변환해 주는 페이스북의 '트랜스코더(TransCoder)'는 비지도학습(unsupervised learning) 접근법으로 이... \",\n",
       "  'pubDate': 'Tue, 09 Jun 2020 20:46:00 +0900'},\n",
       " {'title': '[생활의 여유] 강습',\n",
       "  'originallink': 'http://www.busan.com/view/busan/view.php?code=2020060918353781892',\n",
       "  'link': 'https://news.naver.com/main/read.nhn?mode=LSD&mid=sec&sid1=103&oid=082&aid=0001008207',\n",
       "  'description': '<b>파이썬</b> 기초 문법 과정=부산인재평생교육진흥원·팹몬스터. 23~24일 화~수요일 오후 6~10시 부산 메이커스튜디오. 프로그래밍 언어인 <b>파이썬</b> 기초교육. 자료형과 제어문, 함수와 클래스 내용. 오는 22일까지... ',\n",
       "  'pubDate': 'Tue, 09 Jun 2020 18:56:00 +0900'},\n",
       " {'title': '강남 이젠아이티 컴퓨터학원 &quot;車중심 자동화 시스템공정 스마트팩토리 주목&quot;',\n",
       "  'originallink': 'http://www.gpkorea.com/news/articleView.html?idxno=64851',\n",
       "  'link': 'http://www.gpkorea.com/news/articleView.html?idxno=64851',\n",
       "  'description': '각 공정 단계에서 수집되는 데이터들을 <b>파이썬</b>(Python)과 빅데이터를 활용해 분석하고 사물인터넷 센서... 이러한 취지로 강남 이젠아이티(IT)컴퓨터학원은 ▶&lt;스마트팩토리 자동차 중심 자동화 시스템 공정(<b>파이썬</b>... ',\n",
       "  'pubDate': 'Tue, 09 Jun 2020 17:20:00 +0900'},\n",
       " {'title': 'IT서비스학회 춘계학술대회 17일 개최...박원순 시장 스마트서울 발표',\n",
       "  'originallink': 'https://www.zdnet.co.kr/view/?no=20200609164742',\n",
       "  'link': 'https://news.naver.com/main/read.nhn?mode=LSD&mid=sec&sid1=105&oid=092&aid=0002190744',\n",
       "  'description': '학생들을 위한 <b>파이썬</b> 기반 머신러닝 튜토리얼도 준비했다. 임규건 한국IT서비스학회장은 &quot;2020 춘계학술대회는 포스트 코로나 시대의 스마트 사회를 구현하는데 IT서비스 관련 산업이 역할과 공감대를 만들어가는... ',\n",
       "  'pubDate': 'Tue, 09 Jun 2020 17:02:00 +0900'},\n",
       " {'title': '[우수 SW중심대학을 만나다]〈3〉한양대, SW를 학교 대표 전공으로 발전',\n",
       "  'originallink': 'http://www.etnews.com/20200609000119',\n",
       "  'link': 'https://news.naver.com/main/read.nhn?mode=LSD&mid=sec&sid1=105&oid=030&aid=0002887074',\n",
       "  'description': '전교생 대상 교육은 컴퓨팅 사고력, <b>파이썬</b> 프로그래밍 등 5학점에 해당되는 SW 교과목을 개설해 연 5300명 학생이 수강했다. 융합교육으로 자동차·SW융합전공, 빅데이터 융합전공, 바이오·융합전공을 신설, 운영한다.... ',\n",
       "  'pubDate': 'Tue, 09 Jun 2020 17:02:00 +0900'},\n",
       " {'title': '현장 맞춤형 비대면 데이터·AI 교육…영국 사우스햄턴대학 개발',\n",
       "  'originallink': 'http://www.etnews.com/20200609000122',\n",
       "  'link': 'https://news.naver.com/main/read.nhn?mode=LSD&mid=sec&sid1=105&oid=030&aid=0002887077',\n",
       "  'description': \"필요한데…' '개발팀의 <b>파이썬</b> 기반 데이터 분석 역량을 높여야 하는데…' 최근 기업과 기관 최대 고민인... 전자신문 교육법인 이티에듀는 데이터 사이언스 분석 과정, 데이터 사이언스 <b>파이썬</b> 프로그래밍 과정... \",\n",
       "  'pubDate': 'Tue, 09 Jun 2020 17:02:00 +0900'}]"
      ]
     },
     "execution_count": 6,
     "metadata": {},
     "output_type": "execute_result"
    }
   ],
   "source": [
    "import os\n",
    "import sys\n",
    "import requests\n",
    "import datetime\n",
    "import time\n",
    "import json\n",
    "\n",
    "url = 'https://openapi.naver.com/v1/search/news.json'\n",
    "params = {'query':'파이썬', 'display':'10', 'start' : '1', 'sort':'date'}\n",
    "\n",
    "\n",
    "request.add_header(\"X-Naver-Client-Id\",client_id)\n",
    "request.add_header(\"X-Naver-Client-Secret\",client_secret)\n",
    "\n",
    "headers = {\n",
    "    'X-Naver-Client-Id' : client_id,\n",
    "    'X-Naver-Client-Secret' : client_secret\n",
    "}\n",
    "response = requests.get(url,  headers =headers, params = params)\n",
    "a = response.json()\n",
    "b= a['items']\n",
    "b"
   ]
  },
  {
   "cell_type": "code",
   "execution_count": null,
   "metadata": {},
   "outputs": [],
   "source": []
  },
  {
   "cell_type": "code",
   "execution_count": null,
   "metadata": {},
   "outputs": [],
   "source": []
  },
  {
   "cell_type": "code",
   "execution_count": null,
   "metadata": {},
   "outputs": [],
   "source": []
  },
  {
   "cell_type": "code",
   "execution_count": null,
   "metadata": {},
   "outputs": [],
   "source": []
  },
  {
   "cell_type": "code",
   "execution_count": null,
   "metadata": {},
   "outputs": [],
   "source": []
  },
  {
   "cell_type": "code",
   "execution_count": null,
   "metadata": {},
   "outputs": [],
   "source": []
  },
  {
   "cell_type": "code",
   "execution_count": null,
   "metadata": {},
   "outputs": [],
   "source": []
  },
  {
   "cell_type": "code",
   "execution_count": null,
   "metadata": {},
   "outputs": [],
   "source": []
  },
  {
   "cell_type": "code",
   "execution_count": null,
   "metadata": {},
   "outputs": [],
   "source": []
  },
  {
   "cell_type": "code",
   "execution_count": null,
   "metadata": {},
   "outputs": [],
   "source": []
  },
  {
   "cell_type": "code",
   "execution_count": null,
   "metadata": {},
   "outputs": [],
   "source": []
  },
  {
   "cell_type": "code",
   "execution_count": 123,
   "metadata": {},
   "outputs": [],
   "source": [
    "# xml\n",
    "url = 'https://openapi.naver.com/v1/search/shop.xml'\n",
    "params = {'query':'파이썬', 'display':'10', 'start' : '1', 'sort':'date'}\n",
    "\n",
    "\n",
    "# request.add_header(\"X-Naver-Client-Id\",client_id)\n",
    "# request.add_header(\"X-Naver-Client-Secret\",client_secret)\n",
    "\n",
    "headers = {\n",
    "    'X-Naver-Client-Id' : client_id,\n",
    "    'X-Naver-Client-Secret' : client_secret\n",
    "}\n",
    "response = requests.get(url,  headers=headers, params = params)"
   ]
  },
  {
   "cell_type": "code",
   "execution_count": 124,
   "metadata": {},
   "outputs": [],
   "source": [
    "from bs4 import BeautifulSoup\n",
    "soup = BeautifulSoup(response.text)\n"
   ]
  },
  {
   "cell_type": "code",
   "execution_count": null,
   "metadata": {},
   "outputs": [],
   "source": [
    "### shopping\n",
    "shop_all = soup.select('item')\n",
    "for shopping in shop_all:\n",
    "    title = shopping.select_one('title').text.replace('<b>','').replace('</b>','')\n",
    "    hprice = shopping.select_one('hprice').text\n",
    "    lprice = shopping.select_one('lprice').text\n",
    "    proType =  shopping.select_one('producttype').text\n",
    "    maker =  shopping.select_one('maker').text\n",
    "    brand =  shopping.select_one('brand').text\n",
    "    print(title,hprice,lprice,proType,maker,brand)\n"
   ]
  },
  {
   "cell_type": "code",
   "execution_count": null,
   "metadata": {},
   "outputs": [],
   "source": []
  },
  {
   "cell_type": "code",
   "execution_count": null,
   "metadata": {},
   "outputs": [],
   "source": []
  },
  {
   "cell_type": "code",
   "execution_count": 116,
   "metadata": {},
   "outputs": [
    {
     "name": "stdout",
     "output_type": "stream",
     "text": [
      "결국 <b>파이썬</b> turle로 현대 예술을 만들어버렸습니다...\n"
     ]
    }
   ],
   "source": [
    "### blog\n",
    "blog_one = soup.select_one('item')\n",
    "title = blog_one.select_one('title').text\n",
    "bloggername = blog_one.select_one('bloggername').text\n",
    "bloggerlink = blog_one.select_one('bloggerlink').text\n",
    "print(title)\n",
    "print()\n",
    "\n",
    "blog_all = soup.select('item')\n",
    "for blog in blog_all:\n",
    "    title = blog.select_one('title').text.replace('<b>','').replace('</b>','')\n",
    "    bloggername = blog.select_one('bloggername').text\n",
    "    bloggerlink = blog.select_one('bloggerlink').text\n",
    "    print(title,bloggername,bloggerlink)"
   ]
  },
  {
   "cell_type": "code",
   "execution_count": null,
   "metadata": {},
   "outputs": [],
   "source": [
    "### news\n",
    "\n",
    "news_one = soup.select_one('item')\n",
    "title = news_one.select_one('title').text\n",
    "originallink = news_one.select_one('originallink').text\n",
    "link=news_one.select_one('link').next\n",
    "\n",
    "news_all = soup.select('item')\n",
    "for news in news_all:\n",
    "    title = news.select_one('title').text\n",
    "    originallink = news.select_one('originallink').text\n",
    "    link= news.select_one('link').next\n",
    "    print(title,originallink, link)\n",
    "\n",
    "news_one.text.split"
   ]
  },
  {
   "cell_type": "code",
   "execution_count": null,
   "metadata": {},
   "outputs": [],
   "source": [
    "### book\n",
    "\n",
    "book_one = soup.select_one('item')\n",
    "book_one\n",
    "\n",
    "title = book_one.title.text\n",
    "title = title.replace('<b>','').replace('</b>','')\n",
    "price = book_one.price.text\n",
    "discount=  book_one.discount.text\n",
    "print(title, price, discount)\n",
    "\n",
    "book_all = soup.select('item')\n",
    "book_list = []\n",
    "for book in book_all:\n",
    "    title = book.select_one('title').text.replace('<b>','').replace('</b','')\n",
    "    price = book.price.text\n",
    "    discount = book.discount.text\n",
    "    book_list.append((title, price, discount))\n",
    "\n",
    "book_list"
   ]
  }
 ],
 "metadata": {
  "kernelspec": {
   "display_name": "Python 3",
   "language": "python",
   "name": "python3"
  },
  "language_info": {
   "codemirror_mode": {
    "name": "ipython",
    "version": 3
   },
   "file_extension": ".py",
   "mimetype": "text/x-python",
   "name": "python",
   "nbconvert_exporter": "python",
   "pygments_lexer": "ipython3",
   "version": "3.7.6"
  }
 },
 "nbformat": 4,
 "nbformat_minor": 4
}
