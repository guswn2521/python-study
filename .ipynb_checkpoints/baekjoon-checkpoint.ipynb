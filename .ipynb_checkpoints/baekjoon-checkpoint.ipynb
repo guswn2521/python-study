{
 "cells": [
  {
   "cell_type": "markdown",
   "metadata": {},
   "source": [
    "백준"
   ]
  },
  {
   "cell_type": "code",
   "execution_count": 23,
   "metadata": {},
   "outputs": [
    {
     "name": "stdout",
     "output_type": "stream",
     "text": [
      "734 893\n",
      "437\n"
     ]
    }
   ],
   "source": [
    "## 2908\n",
    "n1,n2 = input().split()\n",
    "for i in range(2,-1,-1):\n",
    "    if n1[i]>n2[i]:\n",
    "        rs = n1\n",
    "        break\n",
    "    elif n1[i]<n2[i]:\n",
    "        rs = n2\n",
    "        break\n",
    "    else:\n",
    "        continue\n",
    "print(rs[::-1])"
   ]
  },
  {
   "cell_type": "code",
   "execution_count": 26,
   "metadata": {},
   "outputs": [
    {
     "data": {
      "text/plain": [
       "'321'"
      ]
     },
     "execution_count": 26,
     "metadata": {},
     "output_type": "execute_result"
    }
   ],
   "source": [
    "a = '123'\n",
    "a[::-1]"
   ]
  },
  {
   "cell_type": "code",
   "execution_count": 44,
   "metadata": {},
   "outputs": [
    {
     "name": "stdout",
     "output_type": "stream",
     "text": [
      "WXYZ\n",
      "40\n"
     ]
    }
   ],
   "source": [
    "##5622\n",
    "tel = input()\n",
    "\n",
    "phone = {1:'',2:'ABC',3:'DEF',4:'GHI',5:'JKL',6:'MNO',7:'PQRS',8:'TUV',9:'WXYZ'}\n",
    "\n",
    "\n",
    "time = 0\n",
    "for i in range(len(tel)):\n",
    "    a = tel[i]\n",
    "    b = [num for num,word in phone.items() if a in word]\n",
    "    time += (b[0]+1)\n",
    "print(time)\n",
    "    "
   ]
  },
  {
   "cell_type": "code",
   "execution_count": null,
   "metadata": {},
   "outputs": [],
   "source": []
  }
 ],
 "metadata": {
  "kernelspec": {
   "display_name": "Python 3",
   "language": "python",
   "name": "python3"
  },
  "language_info": {
   "codemirror_mode": {
    "name": "ipython",
    "version": 3
   },
   "file_extension": ".py",
   "mimetype": "text/x-python",
   "name": "python",
   "nbconvert_exporter": "python",
   "pygments_lexer": "ipython3",
   "version": "3.7.6"
  }
 },
 "nbformat": 4,
 "nbformat_minor": 4
}
