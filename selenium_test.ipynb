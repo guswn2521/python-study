{
 "cells": [
  {
   "cell_type": "code",
   "execution_count": 1,
   "metadata": {},
   "outputs": [],
   "source": [
    "## 셀레니움 설치, 크롬 드라이버 설치"
   ]
  },
  {
   "cell_type": "code",
   "execution_count": 5,
   "metadata": {},
   "outputs": [],
   "source": [
    "from selenium import webdriver\n",
    "from selenium.webdriver.common.keys import Keys\n",
    "from selenium.webdriver.support.ui import WebDriverWait\n",
    "from selenium.webdriver.support import expected_conditions as EC\n",
    "from selenium.webdriver.common.by import By"
   ]
  },
  {
   "cell_type": "code",
   "execution_count": 8,
   "metadata": {},
   "outputs": [],
   "source": [
    "from bs4 import BeautifulSoup\n",
    "import time"
   ]
  },
  {
   "cell_type": "code",
   "execution_count": 23,
   "metadata": {},
   "outputs": [],
   "source": [
    "chrom_driver = 'D:/bigdata/jupyter_python/chromedriver.exe'\n",
    "driver = webdriver.Chrome(chrom_driver)\n",
    "\n",
    "driver.get('https://www.python.org/')     ## 주소를 받아옴\n",
    "search = driver.find_element_by_id('id-search-field')   ## 주소에서 id 찾음\n",
    "time.sleep(2)  ##2초 주기\n",
    "search.clear()\n",
    "\n",
    "time.sleep(2)\n",
    "search.send_keys('lambda')\n",
    "\n",
    "time.sleep(2)\n",
    "search.send_keys(Keys.RETURN)\n",
    "\n",
    "time.sleep(2)\n",
    "driver.close()"
   ]
  },
  {
   "cell_type": "code",
   "execution_count": 48,
   "metadata": {},
   "outputs": [],
   "source": [
    "chrom_driver = 'D:/bigdata/jupyter_python/chromedriver.exe'\n",
    "driver = webdriver.Chrome(chrom_driver)\n",
    "driver.implicitly_wait(5)\n",
    "url = 'https://news.naver.com/main/read.nhn?mode=LSD&mid=shm&sid1=101&oid=001&aid=0011663738'\n",
    "driver.get(url)\n",
    "myElem = WebDriverWait(driver, 10).until(EC.presence_of_element_located(\n",
    "    (By.CSS_SELECTOR,'span.u_cbox_count')\n",
    "))\n",
    "\n",
    "src = driver.page_source\n",
    "soup = BeautifulSoup(src)\n",
    "comment_area = soup.select_one('span.u_cbox_count')"
   ]
  },
  {
   "cell_type": "code",
   "execution_count": 49,
   "metadata": {},
   "outputs": [
    {
     "name": "stdout",
     "output_type": "stream",
     "text": [
      "28\n"
     ]
    }
   ],
   "source": [
    "print(comment_area.text)"
   ]
  },
  {
   "cell_type": "code",
   "execution_count": null,
   "metadata": {},
   "outputs": [],
   "source": []
  },
  {
   "cell_type": "markdown",
   "metadata": {},
   "source": [
    "## selenium으로 로그인 시키기 "
   ]
  },
  {
   "cell_type": "code",
   "execution_count": 47,
   "metadata": {},
   "outputs": [],
   "source": [
    "action_url = 'https://nid.naver.com/nidlogin.login'\n",
    "chrom_driver = 'D:/bigdata/jupyter_python/chromedriver.exe'\n",
    "driver = webdriver.Chrome(chrom_driver)\n",
    "driver.implicitly_wait(3)\n",
    "driver.get(action_url)\n",
    "nid = 'k2moon'\n",
    "npw='k2moonna'\n",
    "driver.find_element_by_name('id').send_keys(nid)\n",
    "driver.find_element_by_name('pw').send_keys(npw)\n",
    "\n",
    "\n",
    "form = driver.find_element_by_css_selector('input.btn_global[type=submit]')\n",
    "form.submit()\n",
    "\n",
    "\n"
   ]
  },
  {
   "cell_type": "code",
   "execution_count": null,
   "metadata": {},
   "outputs": [],
   "source": []
  },
  {
   "cell_type": "code",
   "execution_count": null,
   "metadata": {},
   "outputs": [],
   "source": []
  },
  {
   "cell_type": "code",
   "execution_count": null,
   "metadata": {},
   "outputs": [],
   "source": []
  }
 ],
 "metadata": {
  "kernelspec": {
   "display_name": "Python 3",
   "language": "python",
   "name": "python3"
  },
  "language_info": {
   "codemirror_mode": {
    "name": "ipython",
    "version": 3
   },
   "file_extension": ".py",
   "mimetype": "text/x-python",
   "name": "python",
   "nbconvert_exporter": "python",
   "pygments_lexer": "ipython3",
   "version": "3.7.6"
  }
 },
 "nbformat": 4,
 "nbformat_minor": 4
}
