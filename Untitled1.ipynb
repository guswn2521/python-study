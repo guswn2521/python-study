{
 "cells": [
  {
   "cell_type": "code",
   "execution_count": 10,
   "metadata": {},
   "outputs": [],
   "source": [
    "from selenium import webdriver\n",
    "import selenium\n",
    "from selenium.webdriver.common.by import By\n",
    "from selenium.webdriver.support.ui import WebDriverWait\n",
    "from selenium.webdriver.support import expected_conditions as EC\n",
    "from selenium.common.exceptions import TimeoutException\n",
    "from selenium.common.exceptions import NoSuchElementException\n",
    "from selenium.common.exceptions import StaleElementReferenceException\n",
    "from selenium.common.exceptions import WebDriverException\n",
    "from datetime import datetime as dt\n",
    "from bs4 import BeautifulSoup\n",
    "\n",
    "from selenium.webdriver.common.action_chains import ActionChains\n",
    "\n",
    "from selenium import webdriver\n",
    "# options = webdriver.ChromeOptions()\n",
    "# options.add_argument('--headless')\n",
    "# options.add_argument('--no-sandbox')\n",
    "# options.add_argument('--disable-dev-shm-usage')\n",
    "# open it, go to a website, and get results\n",
    "browser = webdriver.Chrome('chromedriver.exe')\n",
    "browser.delete_all_cookies()\n",
    "browser.get(\"https://disease-ontology.org/\")"
   ]
  },
  {
   "cell_type": "code",
   "execution_count": null,
   "metadata": {},
   "outputs": [],
   "source": [
    "browser.find_elements_by_"
   ]
  },
  {
   "cell_type": "code",
   "execution_count": 12,
   "metadata": {},
   "outputs": [
    {
     "name": "stdout",
     "output_type": "stream",
     "text": [
      "disease of cellular proliferation\n",
      "cancer\n"
     ]
    }
   ],
   "source": [
    "disease = browser.find_elements_by_xpath(\"\"\"//*[@id=\"ext-gen27\"]/div/li/ul/li[3]/div/a/span\"\"\")\n",
    "print(disease[0].text)\n",
    "\n",
    "actionChains = ActionChains(browser)\n",
    "actionChains.double_click(disease[0]).perform()\n",
    "\n",
    "cancer = browser.find_element_by_xpath(\"\"\"//*[@id=\"ext-gen69\"]/li[2]/div/a/span\"\"\")\n",
    "print(cancer.text)\n",
    "\n",
    "actionChains = ActionChains(browser)\n",
    "actionChains.double_click(cancer).perform()"
   ]
  }
 ],
 "metadata": {
  "kernelspec": {
   "display_name": "Python 3",
   "language": "python",
   "name": "python3"
  },
  "language_info": {
   "codemirror_mode": {
    "name": "ipython",
    "version": 3
   },
   "file_extension": ".py",
   "mimetype": "text/x-python",
   "name": "python",
   "nbconvert_exporter": "python",
   "pygments_lexer": "ipython3",
   "version": "3.7.6"
  }
 },
 "nbformat": 4,
 "nbformat_minor": 4
}
