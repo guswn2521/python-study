{
 "cells": [
  {
   "cell_type": "code",
   "execution_count": 17,
   "metadata": {},
   "outputs": [],
   "source": [
    "import requests"
   ]
  },
  {
   "cell_type": "code",
   "execution_count": 18,
   "metadata": {},
   "outputs": [],
   "source": [
    "def py_json_proc(search_key,query, response):\n",
    "    \n",
    "    star_count = 70       \n",
    "    print('*'* star_count)\n",
    "    search_title = '{} {} 검색 : {} {}'.format('=='*10,search_key ,query, '=='*10)\n",
    "    print(search_title)\n",
    "    print('*'* star_count)\n",
    "    \n",
    "    item_json = response.json()\n",
    "    item_all = item_json['items']\n",
    "    if search_key == 'book':\n",
    "        for item_one in item_all:\n",
    "            title_b = item_one['title']\n",
    "            title = title_b.replace('<b>','').replace('</b>','')\n",
    "            price = item_one['price']\n",
    "            discount = item_one['discount']\n",
    "            print('* title : {}'.format(title))\n",
    "            print('* price : {}'.format(price))\n",
    "            print('* discount : {}'.format(discount))\n",
    "            print('*'* star_count)\n",
    "    elif search_key == 'blog':\n",
    "        for item_one in item_all:\n",
    "            title_b = item_one['title']\n",
    "            title = title_b.replace('<b>','').replace('</b>','')\n",
    "            bloggername = item_one['bloggername']\n",
    "            bloggerlink = item_one['bloggerlink']\n",
    "            print('* title : {}'.format(title))\n",
    "            print('* bloggername : {}'.format(bloggername))\n",
    "            print('* bloggerlink : {}'.format(bloggerlink))\n",
    "            print('*'* star_count)\n",
    "    elif search_key == 'news':\n",
    "        for item_one in item_all:\n",
    "            title_b = item_one['title']\n",
    "            title = title_b.replace('<b>','').replace('</b>','').replace('&quot;','')\n",
    "            originallink  = item_one['originallink']\n",
    "            link = item_one['link']\n",
    "            print('* title : {}'.format(title))\n",
    "            print('* originallink : {}'.format(originallink))\n",
    "            print('* link : {}'.format(link))\n",
    "            print('*'* star_count)"
   ]
  },
  {
   "cell_type": "code",
   "execution_count": 19,
   "metadata": {},
   "outputs": [],
   "source": [
    "def naver_search_json(num, query, display, start, sort):\n",
    "    \n",
    "    search_kind = ['book','blog','news']\n",
    "    \n",
    "    search_key = search_kind[int(num)-1]\n",
    "    \n",
    "    client_id =  'eAQRa79V_FOWgCFovuco'\n",
    "    client_secret = 'H5qZe1MG8c'\n",
    "    \n",
    "    url = 'https://openapi.naver.com/v1/search/{}.json'\n",
    "    url = url.format(search_key)\n",
    "    params = {'query':query,\n",
    "          'display':display,\n",
    "          'start':start,\n",
    "          'sort':sort}\n",
    "\n",
    "    headers = {\n",
    "        'X-Naver-Client-Id':client_id,\n",
    "        'X-Naver-Client-Secret':client_secret\n",
    "    }\n",
    "    response = requests.get(url, headers=headers, params=params)\n",
    "    if response.status_code == 200:\n",
    "        #print(response.text)\n",
    "        py_json_proc(search_key,query,response)\n",
    "    else:\n",
    "        print(response.status_code)\n",
    "        \n",
    "    "
   ]
  },
  {
   "cell_type": "code",
   "execution_count": 20,
   "metadata": {},
   "outputs": [],
   "source": [
    "def app():\n",
    "    prompt = '''\n",
    "        1. Book Search\n",
    "        2. Blog Search\n",
    "        3. News Search\n",
    "        4.Quit\n",
    "    '''\n",
    "    number = 0\n",
    "    while True:\n",
    "        print(prompt)\n",
    "        number = input()\n",
    "        if number == '4':\n",
    "            print('안녕히가세요.')\n",
    "            break\n",
    "        query = input('검색어를 넣으세요 >')\n",
    "        display = 10\n",
    "        start = 1\n",
    "        sort = 'date'\n",
    "        naver_search_json(number, query, display, start, sort)"
   ]
  },
  {
   "cell_type": "code",
   "execution_count": null,
   "metadata": {},
   "outputs": [
    {
     "name": "stdout",
     "output_type": "stream",
     "text": [
      "\n",
      "        1. Book Search\n",
      "        2. Blog Search\n",
      "        3. News Search\n",
      "        4.Quit\n",
      "    \n",
      "1\n",
      "검색어를 넣으세요 >인공지능\n",
      "**********************************************************************\n",
      "==================== book 검색 : 인공지능 ====================\n",
      "**********************************************************************\n",
      "* title : 블라인드 면접에 자신감을 주는 책 (내.외부 면접관들은 누구인가, 면접관의 점수평가 방법 공개, 평가사용 면접도구는 무엇인가, 블라인드 면접 준비방법 공개, AI면접, 화상면접 수록)\n",
      "* price : 15000\n",
      "* discount : 13500\n",
      "**********************************************************************\n",
      "* title : 성공을 부르는 직관력의 비밀: 내 안에 숨어 있는 직관력을 깨우는 9가지 방법 (내 안에 숨어 있는 직관력을 깨우는 9가지 방법)\n",
      "* price : 15800\n",
      "* discount : 14220\n",
      "**********************************************************************\n",
      "* title : 너도 한번 AI 만들어 볼래? (그대로 따라 하면 완성! 블록코딩 AI 입문서)\n",
      "* price : 16800\n",
      "* discount : 15120\n",
      "**********************************************************************\n",
      "* title : 5년 후 나는 어디에 있을 것인가 (세상의 모든 것을 기회로 만드는 글로벌 이노베이터의 5가지 통찰)\n",
      "* price : 17000\n",
      "* discount : 15300\n",
      "**********************************************************************\n",
      "* title : ETF 트렌드 2020(양장본 HardCover) (대변동의 시대, 이기는 판을 짜라)\n",
      "* price : 20000\n",
      "* discount : 18000\n",
      "**********************************************************************\n",
      "* title : 뉴타입의 시대 (예측 불가능한 미래를 돌파하는 24가지 생각의 프레임)\n",
      "* price : 16000\n",
      "* discount : 14400\n",
      "**********************************************************************\n",
      "* title : 데이터 프라이버시 (개인 생활과 사회를 위협하는 기술에 관한 탐사기)\n",
      "* price : 14800\n",
      "* discount : 13320\n",
      "**********************************************************************\n",
      "* title : 코로나19 이후의 미래 (코로나 엔터프라이즈 버전이 온다)\n",
      "* price : 18000\n",
      "* discount : 16200\n",
      "**********************************************************************\n",
      "* title : 내일은 없어도 모레는 있다 (조선일보100년포럼이 본 한국의 다음 100년)\n",
      "* price : 18000\n",
      "* discount : 16200\n",
      "**********************************************************************\n",
      "* title : 법의 딜레마\n",
      "* price : 31000\n",
      "* discount : 27900\n",
      "**********************************************************************\n",
      "\n",
      "        1. Book Search\n",
      "        2. Blog Search\n",
      "        3. News Search\n",
      "        4.Quit\n",
      "    \n"
     ]
    }
   ],
   "source": [
    "app()"
   ]
  },
  {
   "cell_type": "code",
   "execution_count": 6,
   "metadata": {},
   "outputs": [
    {
     "data": {
      "text/plain": [
       "'********** aaa **********'"
      ]
     },
     "execution_count": 6,
     "metadata": {},
     "output_type": "execute_result"
    }
   ],
   "source": [
    "search_title = '{} {} {}'.format('*'*10, 'aaa', '*'*10)\n",
    "search_title"
   ]
  }
 ],
 "metadata": {
  "kernelspec": {
   "display_name": "Python 3",
   "language": "python",
   "name": "python3"
  },
  "language_info": {
   "codemirror_mode": {
    "name": "ipython",
    "version": 3
   },
   "file_extension": ".py",
   "mimetype": "text/x-python",
   "name": "python",
   "nbconvert_exporter": "python",
   "pygments_lexer": "ipython3",
   "version": "3.7.7"
  }
 },
 "nbformat": 4,
 "nbformat_minor": 4
}
